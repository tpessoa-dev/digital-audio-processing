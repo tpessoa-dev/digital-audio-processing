{
 "cells": [
  {
   "cell_type": "markdown",
   "metadata": {},
   "source": [
    "<div style=\"background-color:#262626; text-align: center;\">\n",
    "<img src=\"https://fiapfunctions.blob.core.windows.net/datasets/capa.png\">\n",
    "</div>\n",
    "\n",
    "# Analyzing and Hashing Audio Fingerprints\n",
    "\n",
    "Princípios: \n",
    "* [Shazam](https://www.shazam.com/)\n",
    "* [An Industrial-Strength Audio Search Algorithm](https://www.ee.columbia.edu/~dpwe/papers/Wang03-shazam.pdf)\n",
    "* [A Fingerprint for Audio](https://medium.com/intrasonics/a-fingerprint-for-audio-3b337551a671)"
   ]
  },
  {
   "cell_type": "code",
   "execution_count": null,
   "metadata": {},
   "outputs": [],
   "source": [
    "import os\n",
    "import youtube_dl\n",
    "import subprocess\n",
    "import numpy as np\n",
    "from scipy import signal\n",
    "from scipy.io import wavfile\n",
    "import matplotlib.pyplot as plt\n",
    "from matplotlib.mlab import specgram\n",
    "from IPython.display import Audio, display\n",
    "from skimage.feature import peak_local_max\n",
    "\n",
    "plt.rcParams.update({'font.size': 18})"
   ]
  },
  {
   "cell_type": "code",
   "execution_count": null,
   "metadata": {},
   "outputs": [],
   "source": [
    "def option_youtube(song, link):\n",
    "    options = {\n",
    "        'format': 'bestaudio/best',\n",
    "        'extractaudio': True,\n",
    "        'audioformat': 'wav',\n",
    "        'outtmpl': 'audios/youtube/' + song + '.%(ext)s'}\n",
    "    with youtube_dl.YoutubeDL(options) as ydl:\n",
    "        ydl.download([link])"
   ]
  },
  {
   "cell_type": "code",
   "execution_count": null,
   "metadata": {},
   "outputs": [],
   "source": [
    "!mkdir audios/youtube"
   ]
  },
  {
   "cell_type": "markdown",
   "metadata": {},
   "source": [
    "### Artist: Daft Punk\n",
    "* Featured artists: Pharrell Williams, Nile Rodgers\n",
    "* Album: Random Access Memories - Released: 2013\n",
    "* Genre: Dance/Electronic\n",
    "\n",
    "### Artist: Katy Perry\n",
    "* Album: Gzone Rainbow Anthems - Released: 2016\n",
    "* Nominations: Grammy Award for Record of the Year, MORE\n",
    "* Genres: Dance/Electronic, Teen Pop, Rock, Pop"
   ]
  },
  {
   "cell_type": "code",
   "execution_count": null,
   "metadata": {},
   "outputs": [],
   "source": [
    "option_youtube('Daft_Punk', 'https://www.youtube.com/watch?v=5NV6Rdv1a3I')\n",
    "option_youtube('Katy_Perry', 'https://www.youtube.com/watch?v=QGJuMBdaqIw')"
   ]
  },
  {
   "cell_type": "code",
   "execution_count": null,
   "metadata": {},
   "outputs": [],
   "source": [
    "for i in os.listdir(\"audios/youtube\"):\n",
    "    command = f'ffmpeg -i \"audios/youtube/{i}\" -vn -ac 1 -ar 44100 -f wav \"audios/youtube/{i.split(\".\")[0]}.wav\"'\n",
    "    subprocess.run(command, shell=True)\n",
    "    print(command)"
   ]
  },
  {
   "cell_type": "code",
   "execution_count": null,
   "metadata": {},
   "outputs": [],
   "source": [
    "!rm audios/youtube/*.webm\n",
    "!curl https://meriatdatasets.blob.core.windows.net/public/digital-audio-processing/sax_riff_mono.wav -o audios/sax_riff_mono.wav\n",
    "!ls audios/youtube"
   ]
  },
  {
   "cell_type": "markdown",
   "metadata": {},
   "source": [
    "## Frequency Uncertainty"
   ]
  },
  {
   "cell_type": "code",
   "execution_count": null,
   "metadata": {},
   "outputs": [],
   "source": [
    "def beat_freq(f, max_time, rate):\n",
    "    t = np.linspace(0, max_time, rate*max_time)\n",
    "    signal = np.sin(2*np.pi*f*t)\n",
    "    display(Audio(data=signal, rate=rate))\n",
    "    return signal"
   ]
  },
  {
   "cell_type": "code",
   "execution_count": null,
   "metadata": {},
   "outputs": [],
   "source": [
    "signal_250 = beat_freq(250.0, 1, 11025)\n",
    "signal_275 = beat_freq(275.0, 1, 11025)\n",
    "signal_300 = beat_freq(300.0, 1, 11025)"
   ]
  },
  {
   "cell_type": "code",
   "execution_count": null,
   "metadata": {},
   "outputs": [],
   "source": [
    "signals = np.hstack((signal_275+signal_300, signal_275+signal_250))"
   ]
  },
  {
   "cell_type": "code",
   "execution_count": null,
   "metadata": {},
   "outputs": [],
   "source": [
    "fig1 = plt.figure(figsize=(12, 10), facecolor='white')\n",
    "plt.specgram(signals, NFFT=4096, Fs=11025, noverlap=2048, cmap='viridis')\n",
    "ax1 = plt.gca()\n",
    "ax1.set_ylim([0, 600])\n",
    "plt.xlabel('Time bin [s]')\n",
    "plt.ylabel('Frequency [Hz]')\n",
    "plt.show()"
   ]
  },
  {
   "cell_type": "code",
   "execution_count": null,
   "metadata": {},
   "outputs": [],
   "source": [
    "fig2 = plt.figure(figsize=(12, 10), facecolor='white')\n",
    "plt.specgram(signals, NFFT=1024, Fs=11025, noverlap=512, cmap='viridis')\n",
    "ax2 = plt.gca()\n",
    "ax2.set_ylim([0, 600])\n",
    "plt.xlabel('Time bin [s]')\n",
    "plt.ylabel('Frequency [Hz]')\n",
    "plt.show()"
   ]
  },
  {
   "cell_type": "markdown",
   "metadata": {},
   "source": [
    "# Harmonics"
   ]
  },
  {
   "cell_type": "code",
   "execution_count": null,
   "metadata": {},
   "outputs": [],
   "source": [
    "rate, song_array = wavfile.read('audios/sax_riff_mono.wav')"
   ]
  },
  {
   "cell_type": "code",
   "execution_count": null,
   "metadata": {},
   "outputs": [],
   "source": [
    "def calc_specgram(song_array, NFFT, Fs, noverlap):\n",
    "    spec, freqs, t = specgram(song_array, NFFT=NFFT, Fs=Fs, noverlap=noverlap)\n",
    "    Z = 10.0 * np.log10(spec)\n",
    "    Z = np.flipud(Z)\n",
    "    extent = 0, len(t), freqs[0], freqs[-1]\n",
    "    return Z, spec, freqs, t, extent"
   ]
  },
  {
   "cell_type": "code",
   "execution_count": null,
   "metadata": {},
   "outputs": [],
   "source": [
    "def show_specgram(Z, cmap, extent):\n",
    "    fig = plt.figure(figsize=(22, 10), facecolor='white')\n",
    "    plt.imshow(Z, cmap=cmap, extent=extent)\n",
    "    plt.title('Sax Riff Mono')\n",
    "    plt.xlabel('Time bin')\n",
    "    plt.ylabel('Frequency [Hz]')\n",
    "    plt.axis('auto')\n",
    "    ax = plt.gca()\n",
    "    ax.set_xlim([0, extent[1]])\n",
    "    plt.show()"
   ]
  },
  {
   "cell_type": "code",
   "execution_count": null,
   "metadata": {},
   "outputs": [],
   "source": [
    "def cut_specgram(min_freq, max_freq, spec, freqs, t):\n",
    "    spec_cut = spec[(freqs >= min_freq) & (freqs <= max_freq)]\n",
    "    freqs_cut = freqs[(freqs >= min_freq) & (freqs <= max_freq)]\n",
    "    Z_cut = 10.0 * np.log10(spec_cut)\n",
    "    Z_cut = np.flipud(Z_cut)\n",
    "    extent_cut = 0, len(t), freqs_cut[0], freqs_cut[-1]\n",
    "    return Z_cut, spec_cut, freqs_cut, extent_cut"
   ]
  },
  {
   "cell_type": "code",
   "execution_count": null,
   "metadata": {},
   "outputs": [],
   "source": [
    "Z, spec, freqs, t, extent = calc_specgram(song_array, 4096, rate, 2048)"
   ]
  },
  {
   "cell_type": "code",
   "execution_count": null,
   "metadata": {},
   "outputs": [],
   "source": [
    "Z_cut, spec_cut, freqs_cut, extent_cut = cut_specgram(0, 4000, spec, freqs, t)"
   ]
  },
  {
   "cell_type": "code",
   "execution_count": null,
   "metadata": {},
   "outputs": [],
   "source": [
    "display(Audio(data=song_array, rate=rate))"
   ]
  },
  {
   "cell_type": "code",
   "execution_count": null,
   "metadata": {},
   "outputs": [],
   "source": [
    "extent_cut = extent = 0, len(t), freqs_cut[0], freqs_cut[-1]"
   ]
  },
  {
   "cell_type": "code",
   "execution_count": null,
   "metadata": {},
   "outputs": [],
   "source": [
    "show_specgram(Z_cut, 'viridis', extent_cut)"
   ]
  },
  {
   "cell_type": "markdown",
   "metadata": {},
   "source": [
    "## Song Fingerprinting"
   ]
  },
  {
   "cell_type": "code",
   "execution_count": null,
   "metadata": {},
   "outputs": [],
   "source": [
    "rate1, song_array1 = wavfile.read('audios/youtube/Katy_Perry.wav')\n",
    "rate2, song_array2 = wavfile.read('audios/youtube/Daft_Punk.wav')"
   ]
  },
  {
   "cell_type": "code",
   "execution_count": null,
   "metadata": {},
   "outputs": [],
   "source": [
    "spec1, freqs1, t1 = specgram(song_array1, NFFT=4096, Fs=rate1, noverlap=2048)\n",
    "spec2, freqs2, t2 = specgram(song_array2, NFFT=4096, Fs=rate2, noverlap=2048)\n",
    "\n",
    "spec1[spec1 == 0] = 1e-6\n",
    "spec2[spec2 == 0] = 1e-6"
   ]
  },
  {
   "cell_type": "code",
   "execution_count": null,
   "metadata": {},
   "outputs": [],
   "source": [
    "fig1 = plt.figure(figsize=(26, 10), facecolor='white')\n",
    "extent = 0, np.amax(t1), freqs1[0], freqs1[-1]\n",
    "Z = 10.0 * np.log10(spec1)\n",
    "Z = np.flipud(Z)\n",
    "plt.imshow(Z, cmap='viridis', extent=extent)\n",
    "plt.xlabel('Time bin')\n",
    "plt.ylabel('Frequency [Hz]')\n",
    "plt.title('Katy Perry song')\n",
    "plt.axis('auto')\n",
    "ax = plt.gca()\n",
    "ax.set_xlim([0, extent[1]])\n",
    "ax.set_ylim([freqs1[0], freqs1[-1]])\n",
    "plt.show()"
   ]
  },
  {
   "cell_type": "code",
   "execution_count": null,
   "metadata": {},
   "outputs": [],
   "source": [
    "def cut_specgram(min_freq, max_freq, spec, freqs):\n",
    "    spec_cut = spec[(freqs >= min_freq) & (freqs <= max_freq)]\n",
    "    freqs_cut = freqs[(freqs >= min_freq) & (freqs <= max_freq)]\n",
    "    Z_cut = 10.0 * np.log10(spec_cut)\n",
    "    Z_cut = np.flipud(Z_cut)\n",
    "    return Z_cut, freqs_cut"
   ]
  },
  {
   "cell_type": "code",
   "execution_count": null,
   "metadata": {},
   "outputs": [],
   "source": [
    "def show_peaks(Z, freqs, t, coord, title):\n",
    "    fig = plt.figure(figsize=(26, 10), facecolor='white')\n",
    "    plt.imshow(Z, cmap='viridis')\n",
    "    plt.scatter(coord[:, 1], coord[:, 0])\n",
    "    ax = plt.gca()\n",
    "    plt.xlabel('Time bin')\n",
    "    plt.ylabel('Frequency')\n",
    "    plt.title(title, fontsize=18)\n",
    "    plt.axis('auto')\n",
    "    ax.set_xlim([0, len(t)])\n",
    "    ax.set_ylim([len(freqs), 0])\n",
    "    ax.xaxis.set_ticklabels([])\n",
    "    ax.yaxis.set_ticklabels([])\n",
    "    plt.show()"
   ]
  },
  {
   "cell_type": "code",
   "execution_count": null,
   "metadata": {},
   "outputs": [],
   "source": [
    "min_freq = 0\n",
    "max_freq = 15000\n",
    "\n",
    "Z1, freqs1 = cut_specgram(min_freq, max_freq, spec1, freqs1)\n",
    "Z2, freqs2 = cut_specgram(min_freq, max_freq, spec2, freqs2)"
   ]
  },
  {
   "cell_type": "code",
   "execution_count": null,
   "metadata": {},
   "outputs": [],
   "source": [
    "coordinates1 = peak_local_max(Z1, min_distance=20, threshold_abs=20)\n",
    "coordinates2 = peak_local_max(Z2, min_distance=20, threshold_abs=20)"
   ]
  },
  {
   "cell_type": "code",
   "execution_count": null,
   "metadata": {},
   "outputs": [],
   "source": [
    "show_peaks(Z1, freqs1, t1, coordinates1, 'Katy Perry song')"
   ]
  },
  {
   "cell_type": "code",
   "execution_count": null,
   "metadata": {},
   "outputs": [],
   "source": [
    "show_peaks(Z2, freqs2, t2, coordinates2, 'Daft Punk song')"
   ]
  },
  {
   "cell_type": "code",
   "execution_count": null,
   "metadata": {},
   "outputs": [],
   "source": []
  }
 ],
 "metadata": {
  "kernelspec": {
   "display_name": "Python 3",
   "language": "python",
   "name": "python3"
  },
  "language_info": {
   "codemirror_mode": {
    "name": "ipython",
    "version": 3
   },
   "file_extension": ".py",
   "mimetype": "text/x-python",
   "name": "python",
   "nbconvert_exporter": "python",
   "pygments_lexer": "ipython3",
   "version": "3.8.5"
  }
 },
 "nbformat": 4,
 "nbformat_minor": 4
}

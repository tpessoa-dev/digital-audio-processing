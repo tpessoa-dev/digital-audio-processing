{
 "cells": [
  {
   "cell_type": "markdown",
   "metadata": {},
   "source": [
    "<div style=\"background-color:#262626; text-align: center;\">\n",
    "<img src=\"https://fiapfunctions.blob.core.windows.net/datasets/capa.png\">\n",
    "</div>\n",
    "\n",
    "# Start & Tools\n",
    "\n",
    "O primeiro passo será realizar o download dos arquivos de áudio que serão utilizados nos experimentos durante as aulas."
   ]
  },
  {
   "cell_type": "code",
   "execution_count": null,
   "metadata": {},
   "outputs": [],
   "source": [
    "!mkdir audios\n",
    "!mkdir imgs"
   ]
  },
  {
   "cell_type": "code",
   "execution_count": null,
   "metadata": {},
   "outputs": [],
   "source": [
    "!curl https://meriatdatasets.blob.core.windows.net/public/digital-audio-processing/seis.wav -o audios/seis.wav\n",
    "!curl https://meriatdatasets.blob.core.windows.net/public/digital-audio-processing/simple_loop.wav -o audios/simple_loop.wav\n",
    "!curl https://meriatdatasets.blob.core.windows.net/public/digital-audio-processing/image_423.jpg -o audios/image_423.jpg"
   ]
  },
  {
   "cell_type": "code",
   "execution_count": null,
   "metadata": {},
   "outputs": [],
   "source": [
    "!ls audios"
   ]
  },
  {
   "cell_type": "markdown",
   "metadata": {},
   "source": [
    "# Jupyter Audio Basics\n",
    "\n",
    "## Audio Libraries\n",
    "\n",
    "Nos exemplos a seguir, usaremos principalmente duas bibliotecas para aquisição e reprodução de áudio:\n",
    "\n",
    "### 1. librosa\n",
    "\n",
    "[`librosa`](https://librosa.github.io/librosa/index.html) é um Python package for music and audio processing criado por [Brian McFee](https://bmcfee.github.io/). Uma grande parte foi portada para o Matlab por [Dan Ellis](http://www.ee.columbia.edu/%7Edpwe/resources/matlab/).\n",
    "\n",
    "Se necessário, a instalação da versão utilizada nesta aula é a: **`0.8.0`**. \n",
    "\n",
    "Para a instalação da versão **`0.7.2`**, utilize os seguintes comandos:\n",
    "\n",
    "* `pip install librosa==0.7.2`\n",
    "* `pip install numba==0.48.0`\n",
    "\n",
    "### 2. IPython.display.Audio\n",
    "\n",
    "[`IPython.display.Audio`](http://ipython.org/ipython-doc/stable/api/generated/IPython.display.html#IPython.display.Audio) nos permite reproduzir áudio diretamente em um notebook IPython."
   ]
  },
  {
   "cell_type": "markdown",
   "metadata": {},
   "source": [
    "## Reading Audio\n",
    "\n",
    "Usamos a função [`librosa.load`](https://librosa.github.io/librosa/generated/librosa.core.load.html#librosa.core.load) para carregar um arquivo de áudio em uma matriz de áudio. Retorne a matriz de áudio e a taxa de amostragem (sample rate):"
   ]
  },
  {
   "cell_type": "code",
   "execution_count": null,
   "metadata": {},
   "outputs": [],
   "source": [
    "import librosa\n",
    "\n",
    "print(librosa.__version__)"
   ]
  },
  {
   "cell_type": "code",
   "execution_count": null,
   "metadata": {},
   "outputs": [],
   "source": [
    "x, sr = librosa.load('audios/seis.wav')"
   ]
  },
  {
   "cell_type": "markdown",
   "metadata": {},
   "source": [
    "> Caso você receba um erro durante o `librosa.load`, garanta que o [ffmpeg](https://librosa.github.io/librosa/install.html#ffmpeg) esteja instalado.\n",
    "\n",
    "Exibindo o comprimento da matriz de áudio e a taxa de amostragem:"
   ]
  },
  {
   "cell_type": "code",
   "execution_count": null,
   "metadata": {},
   "outputs": [],
   "source": [
    "print(x.shape)\n",
    "\n",
    "print(sr)"
   ]
  },
  {
   "cell_type": "markdown",
   "metadata": {},
   "source": [
    "## Visualizing Audio"
   ]
  },
  {
   "cell_type": "code",
   "execution_count": null,
   "metadata": {},
   "outputs": [],
   "source": [
    "%matplotlib inline\n",
    "import matplotlib.pyplot as plt\n",
    "import librosa.display"
   ]
  },
  {
   "cell_type": "markdown",
   "metadata": {},
   "source": [
    "Plot do audio array com [`librosa.display.waveplot`](https://librosa.github.io/librosa/generated/librosa.display.waveplot.html#librosa.display.waveplot):"
   ]
  },
  {
   "cell_type": "code",
   "execution_count": null,
   "metadata": {},
   "outputs": [],
   "source": [
    "plt.figure(figsize=(16, 6))\n",
    "librosa.display.waveplot(x, sr=sr)\n",
    "plt.show()"
   ]
  },
  {
   "cell_type": "markdown",
   "metadata": {},
   "source": [
    "Plot do espectrograma com [`librosa.display.specshow`](https://librosa.github.io/librosa/generated/librosa.display.specshow.html):"
   ]
  },
  {
   "cell_type": "code",
   "execution_count": null,
   "metadata": {},
   "outputs": [],
   "source": [
    "X = librosa.stft(x)\n",
    "Xdb = librosa.amplitude_to_db(abs(X))\n",
    "\n",
    "plt.figure(figsize=(16, 6))\n",
    "librosa.display.specshow(Xdb, sr=sr, x_axis='time', y_axis='hz')\n",
    "plt.show()"
   ]
  },
  {
   "cell_type": "markdown",
   "metadata": {},
   "source": [
    "## Playing Audio\n",
    "\n",
    "### `IPython.display.Audio`\n",
    "\n",
    "Utilizamos o [`IPython.display.Audio`](http://ipython.org/ipython-doc/2/api/generated/IPython.lib.display.html#IPython.lib.display.Audio), para ouvir um determinado áudio diretamente no notebook."
   ]
  },
  {
   "cell_type": "code",
   "execution_count": null,
   "metadata": {},
   "outputs": [],
   "source": [
    "import IPython.display as ipd\n",
    "\n",
    "ipd.Audio('audios/seis.wav') # load a local WAV file"
   ]
  },
  {
   "cell_type": "markdown",
   "metadata": {},
   "source": [
    "A função `IPython.display.Audio` traduz qualquer matriz, como por exemplo uma matriz NumPy. Vamos sintetizar um tom puro em 440 Hz:"
   ]
  },
  {
   "cell_type": "code",
   "execution_count": null,
   "metadata": {},
   "outputs": [],
   "source": [
    "import numpy\n",
    "\n",
    "# sample rate\n",
    "sr = 22050\n",
    "# seconds\n",
    "T = 2.0\n",
    "# time variable\n",
    "t = numpy.linspace(0, T, int(T*sr), endpoint=False)\n",
    "# pure sine wave at 440 Hz\n",
    "x = 0.5*numpy.sin(2*numpy.pi*440*t)"
   ]
  },
  {
   "cell_type": "markdown",
   "metadata": {},
   "source": [
    "Ouvindo o áudio recém criado"
   ]
  },
  {
   "cell_type": "code",
   "execution_count": null,
   "metadata": {},
   "outputs": [],
   "source": [
    "# load a NumPy array\n",
    "ipd.Audio(x, rate=sr)"
   ]
  },
  {
   "cell_type": "markdown",
   "metadata": {},
   "source": [
    "## Writing Audio\n",
    "\n",
    "Use a funcão [`librosa.output.write_wav`](https://librosa.github.io/librosa/generated/librosa.output.write_wav.html#librosa.output.write_wav) para salvar o array NumPy em um arquivo WAV. **Este comando só está disponível para a versão `0.7.2`**"
   ]
  },
  {
   "cell_type": "code",
   "execution_count": null,
   "metadata": {},
   "outputs": [],
   "source": [
    "librosa.output.write_wav('audios/tone_440.wav', x, sr)"
   ]
  },
  {
   "cell_type": "code",
   "execution_count": null,
   "metadata": {},
   "outputs": [],
   "source": [
    "import soundfile as sf"
   ]
  },
  {
   "cell_type": "code",
   "execution_count": null,
   "metadata": {},
   "outputs": [],
   "source": [
    "sf.write('audios/tone_440.wav', x, sr, 'PCM_16')"
   ]
  },
  {
   "cell_type": "markdown",
   "metadata": {},
   "source": [
    "## ffmpeg & ffprobe\n",
    "\n",
    "[ffmpeg](https://www.ffmpeg.org/) is a framework to convert among different audio and video file formats."
   ]
  },
  {
   "cell_type": "code",
   "execution_count": null,
   "metadata": {},
   "outputs": [],
   "source": [
    "!ffmpeg -version"
   ]
  },
  {
   "cell_type": "code",
   "execution_count": null,
   "metadata": {},
   "outputs": [],
   "source": [
    "!ffprobe -version"
   ]
  },
  {
   "cell_type": "code",
   "execution_count": null,
   "metadata": {},
   "outputs": [],
   "source": [
    "!ffmpeg -encoders"
   ]
  },
  {
   "cell_type": "code",
   "execution_count": null,
   "metadata": {},
   "outputs": [],
   "source": [
    "!ffprobe -i 'audios/seis.wav' -show_streams"
   ]
  },
  {
   "cell_type": "code",
   "execution_count": null,
   "metadata": {},
   "outputs": [],
   "source": [
    "!ffprobe -i 'audios/simple_loop.wav' -print_format 'json' -show_streams"
   ]
  },
  {
   "cell_type": "code",
   "execution_count": null,
   "metadata": {},
   "outputs": [],
   "source": []
  }
 ],
 "metadata": {
  "kernelspec": {
   "display_name": "Python 3",
   "language": "python",
   "name": "python3"
  },
  "language_info": {
   "codemirror_mode": {
    "name": "ipython",
    "version": 3
   },
   "file_extension": ".py",
   "mimetype": "text/x-python",
   "name": "python",
   "nbconvert_exporter": "python",
   "pygments_lexer": "ipython3",
   "version": "3.8.5"
  }
 },
 "nbformat": 4,
 "nbformat_minor": 4
}

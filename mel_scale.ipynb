{
 "cells": [
  {
   "cell_type": "markdown",
   "metadata": {},
   "source": [
    "<div style=\"background-color:#262626; text-align: center;\">\n",
    "<img src=\"https://fiapfunctions.blob.core.windows.net/datasets/capa.png\">\n",
    "</div>\n",
    "\n",
    "# Why Mel Scale is important?"
   ]
  },
  {
   "cell_type": "code",
   "execution_count": null,
   "metadata": {},
   "outputs": [],
   "source": [
    "import librosa\n",
    "import librosa.display\n",
    "\n",
    "import youtube_dl\n",
    "import numpy as np\n",
    "import matplotlib.pyplot as plt\n",
    "\n",
    "from IPython.display import Audio, display, Image, YouTubeVideo"
   ]
  },
  {
   "cell_type": "code",
   "execution_count": null,
   "metadata": {},
   "outputs": [],
   "source": [
    "def option_youtube(song, link):\n",
    "    options = {\n",
    "        'format': 'bestaudio/best',\n",
    "        'extractaudio': True,\n",
    "        'audioformat': 'wav',\n",
    "        'outtmpl': 'audios/youtube/' + song + '.%(ext)s'}\n",
    "    with youtube_dl.YoutubeDL(options) as ydl:\n",
    "        ydl.download([link])"
   ]
  },
  {
   "cell_type": "code",
   "execution_count": null,
   "metadata": {},
   "outputs": [],
   "source": [
    "YouTubeVideo('W5Trznre92c')"
   ]
  },
  {
   "cell_type": "code",
   "execution_count": null,
   "metadata": {},
   "outputs": [],
   "source": [
    "!mkdir audios/youtube"
   ]
  },
  {
   "cell_type": "code",
   "execution_count": null,
   "metadata": {},
   "outputs": [],
   "source": [
    "option_youtube('Whales_Song', 'https://www.youtube.com/watch?v=W5Trznre92c')"
   ]
  },
  {
   "cell_type": "code",
   "execution_count": null,
   "metadata": {},
   "outputs": [],
   "source": [
    "!ffmpeg -i \"audios/youtube/Whales_Song.m4a\" -vn -ac 1 -ar 44100 -f wav \"audios/youtube/Whales_Song.wav\""
   ]
  },
  {
   "cell_type": "code",
   "execution_count": null,
   "metadata": {},
   "outputs": [],
   "source": [
    "!rm audios/youtube/*.m4a\n",
    "!ls audios/youtube"
   ]
  },
  {
   "cell_type": "code",
   "execution_count": null,
   "metadata": {},
   "outputs": [],
   "source": [
    "y, sr = librosa.load('audios/youtube/Whales_Song.wav')\n",
    "\n",
    "whale_song, _ = librosa.effects.trim(y)\n",
    "Audio(data=whale_song, rate=sr)"
   ]
  },
  {
   "cell_type": "code",
   "execution_count": null,
   "metadata": {},
   "outputs": [],
   "source": [
    "plt.figure(figsize=(22, 8))\n",
    "librosa.display.waveplot(whale_song, sr=sr)"
   ]
  },
  {
   "cell_type": "code",
   "execution_count": null,
   "metadata": {},
   "outputs": [],
   "source": [
    "plt.figure(figsize=(22, 8))\n",
    "n_fft = 2048\n",
    "D = np.abs(librosa.stft(whale_song[:n_fft], n_fft=n_fft, hop_length=n_fft+1))\n",
    "plt.plot(D, linewidth=4)\n",
    "plt.show()"
   ]
  },
  {
   "cell_type": "code",
   "execution_count": null,
   "metadata": {},
   "outputs": [],
   "source": [
    "plt.figure(figsize=(24, 8))\n",
    "hop_length = 512\n",
    "D = np.abs(librosa.stft(whale_song, n_fft=n_fft, hop_length=hop_length))\n",
    "librosa.display.specshow(D, sr=sr, x_axis='time', y_axis='linear');\n",
    "plt.colorbar();"
   ]
  },
  {
   "cell_type": "code",
   "execution_count": null,
   "metadata": {},
   "outputs": [],
   "source": [
    "plt.figure(figsize=(24, 8))\n",
    "DB = librosa.amplitude_to_db(D, ref=np.max)\n",
    "librosa.display.specshow(DB, sr=sr, hop_length=hop_length, x_axis='time', y_axis='log');\n",
    "plt.colorbar(format='%+2.0f dB');"
   ]
  },
  {
   "cell_type": "code",
   "execution_count": null,
   "metadata": {},
   "outputs": [],
   "source": [
    "n_mels = 128\n",
    "mel = librosa.filters.mel(sr=sr, n_fft=n_fft, n_mels=n_mels)"
   ]
  },
  {
   "cell_type": "code",
   "execution_count": null,
   "metadata": {},
   "outputs": [],
   "source": [
    "plt.figure(figsize=(22, 6))\n",
    "\n",
    "plt.subplot(1, 3, 1);\n",
    "librosa.display.specshow(mel, sr=sr, hop_length=hop_length, x_axis='linear');\n",
    "plt.ylabel('Mel filter');\n",
    "plt.colorbar();\n",
    "plt.title('1. Our filter bank for converting from Hz to mels.', fontsize=18);\n",
    "\n",
    "\n",
    "plt.subplot(1, 3, 2);\n",
    "mel_10 = librosa.filters.mel(sr=sr, n_fft=n_fft, n_mels=10)\n",
    "librosa.display.specshow(mel_10, sr=sr, hop_length=hop_length, x_axis='linear');\n",
    "plt.ylabel('Mel filter');\n",
    "plt.colorbar();\n",
    "plt.title('2. Easier to see what is happening with only 10 mels.', fontsize=18);\n",
    "\n",
    "plt.subplot(1, 3, 3);\n",
    "idxs_to_plot = [0, 9, 49, 99, 127]\n",
    "for i in idxs_to_plot:\n",
    "    plt.plot(mel[i]);\n",
    "plt.legend(labels=['{}'.format(i+1) for i in idxs_to_plot]);\n",
    "plt.title('3. Plotting some triangular filters separately.', fontsize=18);\n",
    "\n",
    "plt.tight_layout();"
   ]
  },
  {
   "cell_type": "code",
   "execution_count": null,
   "metadata": {},
   "outputs": [],
   "source": [
    "plt.figure(figsize=(20, 6))\n",
    "plt.plot(D[:, 1], linewidth=4)\n",
    "plt.plot(mel.dot(D[:, 1]), linewidth=4)\n",
    "plt.legend(labels=['Hz', 'mel'])\n",
    "plt.title('One sampled window for example, before and after converting to mel')"
   ]
  },
  {
   "cell_type": "code",
   "execution_count": null,
   "metadata": {},
   "outputs": [],
   "source": [
    "S = librosa.feature.melspectrogram(whale_song, sr=sr, n_fft=n_fft, hop_length=hop_length, n_mels=n_mels)\n",
    "S_DB = librosa.power_to_db(S, ref=np.max)\n",
    "\n",
    "plt.figure(figsize=(22, 6));\n",
    "librosa.display.specshow(S_DB, sr=sr, hop_length=hop_length, x_axis='time', y_axis='mel');\n",
    "plt.colorbar(format='%+2.0f dB');"
   ]
  },
  {
   "cell_type": "code",
   "execution_count": null,
   "metadata": {},
   "outputs": [],
   "source": []
  },
  {
   "cell_type": "markdown",
   "metadata": {},
   "source": [
    "ref: [Dalya Gartzman](https://www.freecodecamp.org/news/author/dalyag/)"
   ]
  }
 ],
 "metadata": {
  "kernelspec": {
   "display_name": "Python 3",
   "language": "python",
   "name": "python3"
  },
  "language_info": {
   "codemirror_mode": {
    "name": "ipython",
    "version": 3
   },
   "file_extension": ".py",
   "mimetype": "text/x-python",
   "name": "python",
   "nbconvert_exporter": "python",
   "pygments_lexer": "ipython3",
   "version": "3.8.3"
  }
 },
 "nbformat": 4,
 "nbformat_minor": 4
}
